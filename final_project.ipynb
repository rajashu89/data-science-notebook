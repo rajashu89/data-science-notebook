{
  "metadata": {
    "kernelspec": {
      "name": "python",
      "display_name": "Python (Pyodide)",
      "language": "python"
    },
    "language_info": {
      "codemirror_mode": {
        "name": "python",
        "version": 3
      },
      "file_extension": ".py",
      "mimetype": "text/x-python",
      "name": "python",
      "nbconvert_exporter": "python",
      "pygments_lexer": "ipython3",
      "version": "3.8"
    }
  },
  "nbformat_minor": 4,
  "nbformat": 4,
  "cells": [
    {
      "cell_type": "markdown",
      "source": "# Data Science Tools and Ecosystem\n",
      "metadata": {}
    },
    {
      "cell_type": "markdown",
      "source": "## Introduction\n\nIn this notebook, we will explore the tools and techniques used in Data Science. This includes languages, libraries, and basic operations with Python.\n",
      "metadata": {}
    },
    {
      "cell_type": "markdown",
      "source": "## Popular Languages for Data Science\n",
      "metadata": {}
    },
    {
      "cell_type": "markdown",
      "source": "Some of the popular languages that Data Scientists use are:\n\n1. Python  \n2. R  \n3. SQL  \n4. Java  \n5. Scala  \n6. Julia  \n7. C++  \n8. JavaScript  ",
      "metadata": {}
    },
    {
      "cell_type": "markdown",
      "source": "## Commonly Used Libraries by Data Scientists",
      "metadata": {}
    },
    {
      "cell_type": "markdown",
      "source": "Some of the commonly used libraries used by Data Scientists include:\n\n1. NumPy  \n2. Pandas  \n3. Matplotlib  \n4. Seaborn  \n5. Scikit-learn  \n6. TensorFlow  \n7. Keras  \n8. PyTorch  ",
      "metadata": {}
    },
    {
      "cell_type": "markdown",
      "source": "# Markdown Table of Data Science Tools",
      "metadata": {}
    },
    {
      "cell_type": "markdown",
      "source": "| Category        | Tool                |\n|-----------------|---------------------|\n| Data Analysis   | Pandas, NumPy       |\n| Visualization   | Matplotlib, Seaborn |\n| Machine Learning| Scikit-learn, TensorFlow |\n| Big Data        | Hadoop, Spark       |\n",
      "metadata": {}
    },
    {
      "cell_type": "markdown",
      "source": "#  Introductory Sentence about Arithmetic Expressions",
      "metadata": {}
    },
    {
      "cell_type": "markdown",
      "source": "In this section, we will explore basic arithmetic expressions in Python such as addition, subtraction, multiplication, and division.\n",
      "metadata": {}
    },
    {
      "cell_type": "markdown",
      "source": "# Code Cell to Multiply and Add Integers",
      "metadata": {}
    },
    {
      "cell_type": "code",
      "source": "# Multiply two integers\nproduct = 4 * 5\nprint(\"The product is:\", product)\n\n# Add two integers\nsum_result = 7 + 3\nprint(\"The sum is:\", sum_result)\n",
      "metadata": {
        "trusted": true
      },
      "outputs": [
        {
          "name": "stdout",
          "text": "The product is: 20\nThe sum is: 10\n",
          "output_type": "stream"
        }
      ],
      "execution_count": 9
    },
    {
      "cell_type": "markdown",
      "source": "### Conversion of Minutes to Hours\n",
      "metadata": {}
    },
    {
      "cell_type": "code",
      "source": "# This will convert 200 minutes to hours\nminutes = 200\nhours = minutes / 60\nhours\n",
      "metadata": {
        "trusted": true
      },
      "outputs": [
        {
          "execution_count": 5,
          "output_type": "execute_result",
          "data": {
            "text/plain": "3.3333333333333335"
          },
          "metadata": {}
        }
      ],
      "execution_count": 5
    },
    {
      "cell_type": "markdown",
      "source": "## Objectives",
      "metadata": {}
    },
    {
      "cell_type": "markdown",
      "source": "In this notebook, you will:\n\n- List popular languages for Data Science  \n- List commonly used libraries for Data Science  \n- Create and format Markdown cells  \n- Perform arithmetic operations using Python  \n- Convert units using Python code  \n- Share your Jupyter Notebook through GitHub",
      "metadata": {}
    },
    {
      "cell_type": "markdown",
      "source": "## Author",
      "metadata": {}
    },
    {
      "cell_type": "markdown",
      "source": "Ashutosh Ranjan  \nDate: May 21, 2025",
      "metadata": {}
    },
    {
      "cell_type": "code",
      "source": "",
      "metadata": {
        "trusted": true
      },
      "outputs": [],
      "execution_count": null
    }
  ]
}